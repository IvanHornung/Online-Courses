{
 "cells": [
  {
   "cell_type": "code",
   "execution_count": 2,
   "metadata": {},
   "outputs": [
    {
     "name": "stdout",
     "output_type": "stream",
     "text": [
      "[-0.09067628 -0.0731129   1.27117941 -0.84054288  0.37639235]\n"
     ]
    }
   ],
   "source": [
    "import numpy as np\n",
    "\n",
    "a = np.random.randn(5)\n",
    "print(a)"
   ]
  },
  {
   "cell_type": "code",
   "execution_count": 3,
   "metadata": {},
   "outputs": [
    {
     "name": "stdout",
     "output_type": "stream",
     "text": [
      "(5,)\n"
     ]
    }
   ],
   "source": [
    "print(a.shape)\n",
    "# Rank 1 array\n",
    "# Neither a row vector nor a column vector"
   ]
  },
  {
   "cell_type": "code",
   "execution_count": 5,
   "metadata": {},
   "outputs": [
    {
     "name": "stdout",
     "output_type": "stream",
     "text": [
      "[-0.09067628 -0.0731129   1.27117941 -0.84054288  0.37639235]\n"
     ]
    }
   ],
   "source": [
    "print(a.T)\n",
    "# Will look the same"
   ]
  },
  {
   "cell_type": "code",
   "execution_count": 6,
   "metadata": {},
   "outputs": [
    {
     "name": "stdout",
     "output_type": "stream",
     "text": [
      "2.4776482944939966\n"
     ]
    }
   ],
   "source": [
    "print(np.dot(a, a.T))\n",
    "# will give back a single number"
   ]
  },
  {
   "cell_type": "code",
   "execution_count": 8,
   "metadata": {},
   "outputs": [
    {
     "name": "stdout",
     "output_type": "stream",
     "text": [
      "[[-1.10670872]\n",
      " [-1.22738246]\n",
      " [-0.14127143]\n",
      " [-1.53315823]\n",
      " [-1.65869339]]\n"
     ]
    }
   ],
   "source": [
    "# Instead, create a 5x1 vector to avoid the confusion\n",
    "a = np.random.randn(5,1) # column vector\n",
    "print(a)"
   ]
  },
  {
   "cell_type": "code",
   "execution_count": 9,
   "metadata": {},
   "outputs": [
    {
     "name": "stdout",
     "output_type": "stream",
     "text": [
      "[[-1.10670872 -1.22738246 -0.14127143 -1.53315823 -1.65869339]]\n"
     ]
    }
   ],
   "source": [
    "print(a.T)"
   ]
  },
  {
   "cell_type": "code",
   "execution_count": 10,
   "metadata": {},
   "outputs": [
    {
     "name": "stdout",
     "output_type": "stream",
     "text": [
      "[[1.22480418 1.35835486 0.15634632 1.69675957 1.83569043]\n",
      " [1.35835486 1.5064677  0.17339408 1.88177151 2.03585117]\n",
      " [0.15634632 0.17339408 0.01995762 0.21659146 0.23432599]\n",
      " [1.69675957 1.88177151 0.21659146 2.35057415 2.54303942]\n",
      " [1.83569043 2.03585117 0.23432599 2.54303942 2.75126376]]\n"
     ]
    }
   ],
   "source": [
    "print(np.dot(a,a.T))"
   ]
  },
  {
   "cell_type": "code",
   "execution_count": null,
   "metadata": {},
   "outputs": [],
   "source": []
  }
 ],
 "metadata": {
  "kernelspec": {
   "display_name": "Python 3",
   "language": "python",
   "name": "python3"
  },
  "language_info": {
   "codemirror_mode": {
    "name": "ipython",
    "version": 3
   },
   "file_extension": ".py",
   "mimetype": "text/x-python",
   "name": "python",
   "nbconvert_exporter": "python",
   "pygments_lexer": "ipython3",
   "version": "3.8.2"
  },
  "orig_nbformat": 4
 },
 "nbformat": 4,
 "nbformat_minor": 2
}
